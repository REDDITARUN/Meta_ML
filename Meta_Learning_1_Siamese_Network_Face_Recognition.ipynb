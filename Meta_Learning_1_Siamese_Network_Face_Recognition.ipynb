{
  "cells": [
    {
      "cell_type": "markdown",
      "metadata": {
        "id": "eawEVnB6BdHK"
      },
      "source": [
        "# Face Recognition Using Siamese Network\n"
      ]
    },
    {
      "cell_type": "markdown",
      "metadata": {
        "id": "3uJZG-F9BdHN"
      },
      "source": [
        "Import the required libraries"
      ]
    },
    {
      "cell_type": "code",
      "execution_count": 1,
      "metadata": {
        "id": "hrEeydViBdHO",
        "scrolled": false
      },
      "outputs": [],
      "source": [
        "import re\n",
        "import numpy as np\n",
        "from PIL import Image\n",
        "\n",
        "from sklearn.model_selection import train_test_split\n",
        "from keras import backend as K\n",
        "from keras.layers import Activation\n",
        "from keras.layers import Input, Lambda, Dense, Dropout, Convolution2D, MaxPooling2D, Flatten\n",
        "from keras.models import Sequential, Model\n",
        "from keras.optimizers import RMSprop"
      ]
    },
    {
      "cell_type": "markdown",
      "metadata": {
        "id": "CuOk5mTOBdHQ"
      },
      "source": [
        "Now, we define a function for reading our input image. The function read_image takes input as an image and returns the numpy array."
      ]
    },
    {
      "cell_type": "code",
      "execution_count": 2,
      "metadata": {
        "colab": {
          "base_uri": "https://localhost:8080/"
        },
        "id": "C3tn56wRB0gZ",
        "outputId": "39f9004d-d14f-46e1-dcec-e9e6ad4b76cf"
      },
      "outputs": [
        {
          "name": "stdout",
          "output_type": "stream",
          "text": [
            "Archive:  Data.zip\n",
            "   creating: Data/faces_dataset/\n",
            "   creating: Data/faces_dataset/s1/\n",
            "  inflating: Data/faces_dataset/s1/1.pgm  \n",
            "  inflating: Data/faces_dataset/s1/10.pgm  \n",
            "  inflating: Data/faces_dataset/s1/2.pgm  \n",
            "  inflating: Data/faces_dataset/s1/3.pgm  \n",
            "  inflating: Data/faces_dataset/s1/4.pgm  \n",
            "  inflating: Data/faces_dataset/s1/5.pgm  \n",
            "  inflating: Data/faces_dataset/s1/6.pgm  \n",
            "  inflating: Data/faces_dataset/s1/7.pgm  \n",
            "  inflating: Data/faces_dataset/s1/8.pgm  \n",
            "  inflating: Data/faces_dataset/s1/9.pgm  \n",
            "   creating: Data/faces_dataset/s10/\n",
            "  inflating: Data/faces_dataset/s10/1.pgm  \n",
            "  inflating: Data/faces_dataset/s10/10.pgm  \n",
            "  inflating: Data/faces_dataset/s10/2.pgm  \n",
            "  inflating: Data/faces_dataset/s10/3.pgm  \n",
            "  inflating: Data/faces_dataset/s10/4.pgm  \n",
            "  inflating: Data/faces_dataset/s10/5.pgm  \n",
            "  inflating: Data/faces_dataset/s10/6.pgm  \n",
            "  inflating: Data/faces_dataset/s10/7.pgm  \n",
            "  inflating: Data/faces_dataset/s10/8.pgm  \n",
            "  inflating: Data/faces_dataset/s10/9.pgm  \n",
            "   creating: Data/faces_dataset/s11/\n",
            "  inflating: Data/faces_dataset/s11/1.pgm  \n",
            "  inflating: Data/faces_dataset/s11/10.pgm  \n",
            "  inflating: Data/faces_dataset/s11/2.pgm  \n",
            "  inflating: Data/faces_dataset/s11/3.pgm  \n",
            "  inflating: Data/faces_dataset/s11/4.pgm  \n",
            "  inflating: Data/faces_dataset/s11/5.pgm  \n",
            "  inflating: Data/faces_dataset/s11/6.pgm  \n",
            "  inflating: Data/faces_dataset/s11/7.pgm  \n",
            "  inflating: Data/faces_dataset/s11/8.pgm  \n",
            "  inflating: Data/faces_dataset/s11/9.pgm  \n",
            "   creating: Data/faces_dataset/s12/\n",
            "  inflating: Data/faces_dataset/s12/1.pgm  \n",
            "  inflating: Data/faces_dataset/s12/10.pgm  \n",
            "  inflating: Data/faces_dataset/s12/2.pgm  \n",
            "  inflating: Data/faces_dataset/s12/3.pgm  \n",
            "  inflating: Data/faces_dataset/s12/4.pgm  \n",
            "  inflating: Data/faces_dataset/s12/5.pgm  \n",
            "  inflating: Data/faces_dataset/s12/6.pgm  \n",
            "  inflating: Data/faces_dataset/s12/7.pgm  \n",
            "  inflating: Data/faces_dataset/s12/8.pgm  \n",
            "  inflating: Data/faces_dataset/s12/9.pgm  \n",
            "   creating: Data/faces_dataset/s13/\n",
            "  inflating: Data/faces_dataset/s13/1.pgm  \n",
            "  inflating: Data/faces_dataset/s13/10.pgm  \n",
            "  inflating: Data/faces_dataset/s13/2.pgm  \n",
            "  inflating: Data/faces_dataset/s13/3.pgm  \n",
            "  inflating: Data/faces_dataset/s13/4.pgm  \n",
            "  inflating: Data/faces_dataset/s13/5.pgm  \n",
            "  inflating: Data/faces_dataset/s13/6.pgm  \n",
            "  inflating: Data/faces_dataset/s13/7.pgm  \n",
            "  inflating: Data/faces_dataset/s13/8.pgm  \n",
            "  inflating: Data/faces_dataset/s13/9.pgm  \n",
            "   creating: Data/faces_dataset/s14/\n",
            "  inflating: Data/faces_dataset/s14/1.pgm  \n",
            "  inflating: Data/faces_dataset/s14/10.pgm  \n",
            "  inflating: Data/faces_dataset/s14/2.pgm  \n",
            "  inflating: Data/faces_dataset/s14/3.pgm  \n",
            "  inflating: Data/faces_dataset/s14/4.pgm  \n",
            "  inflating: Data/faces_dataset/s14/5.pgm  \n",
            "  inflating: Data/faces_dataset/s14/6.pgm  \n",
            "  inflating: Data/faces_dataset/s14/7.pgm  \n",
            "  inflating: Data/faces_dataset/s14/8.pgm  \n",
            "  inflating: Data/faces_dataset/s14/9.pgm  \n",
            "   creating: Data/faces_dataset/s15/\n",
            "  inflating: Data/faces_dataset/s15/1.pgm  \n",
            "  inflating: Data/faces_dataset/s15/10.pgm  \n",
            "  inflating: Data/faces_dataset/s15/2.pgm  \n",
            "  inflating: Data/faces_dataset/s15/3.pgm  \n",
            "  inflating: Data/faces_dataset/s15/4.pgm  \n",
            "  inflating: Data/faces_dataset/s15/5.pgm  \n",
            "  inflating: Data/faces_dataset/s15/6.pgm  \n",
            "  inflating: Data/faces_dataset/s15/7.pgm  \n",
            "  inflating: Data/faces_dataset/s15/8.pgm  \n",
            "  inflating: Data/faces_dataset/s15/9.pgm  \n",
            "   creating: Data/faces_dataset/s16/\n",
            "  inflating: Data/faces_dataset/s16/1.pgm  \n",
            "  inflating: Data/faces_dataset/s16/10.pgm  \n",
            "  inflating: Data/faces_dataset/s16/2.pgm  \n",
            "  inflating: Data/faces_dataset/s16/3.pgm  \n",
            "  inflating: Data/faces_dataset/s16/4.pgm  \n",
            "  inflating: Data/faces_dataset/s16/5.pgm  \n",
            "  inflating: Data/faces_dataset/s16/6.pgm  \n",
            "  inflating: Data/faces_dataset/s16/7.pgm  \n",
            "  inflating: Data/faces_dataset/s16/8.pgm  \n",
            "  inflating: Data/faces_dataset/s16/9.pgm  \n",
            "   creating: Data/faces_dataset/s17/\n",
            "  inflating: Data/faces_dataset/s17/1.pgm  \n",
            "  inflating: Data/faces_dataset/s17/10.pgm  \n",
            "  inflating: Data/faces_dataset/s17/2.pgm  \n",
            "  inflating: Data/faces_dataset/s17/3.pgm  \n",
            "  inflating: Data/faces_dataset/s17/4.pgm  \n",
            "  inflating: Data/faces_dataset/s17/5.pgm  \n",
            "  inflating: Data/faces_dataset/s17/6.pgm  \n",
            "  inflating: Data/faces_dataset/s17/7.pgm  \n",
            "  inflating: Data/faces_dataset/s17/8.pgm  \n",
            "  inflating: Data/faces_dataset/s17/9.pgm  \n",
            "   creating: Data/faces_dataset/s18/\n",
            "  inflating: Data/faces_dataset/s18/1.pgm  \n",
            "  inflating: Data/faces_dataset/s18/10.pgm  \n",
            "  inflating: Data/faces_dataset/s18/2.pgm  \n",
            "  inflating: Data/faces_dataset/s18/3.pgm  \n",
            "  inflating: Data/faces_dataset/s18/4.pgm  \n",
            "  inflating: Data/faces_dataset/s18/5.pgm  \n",
            "  inflating: Data/faces_dataset/s18/6.pgm  \n",
            "  inflating: Data/faces_dataset/s18/7.pgm  \n",
            "  inflating: Data/faces_dataset/s18/8.pgm  \n",
            "  inflating: Data/faces_dataset/s18/9.pgm  \n",
            "   creating: Data/faces_dataset/s19/\n",
            "  inflating: Data/faces_dataset/s19/1.pgm  \n",
            "  inflating: Data/faces_dataset/s19/10.pgm  \n",
            "  inflating: Data/faces_dataset/s19/2.pgm  \n",
            "  inflating: Data/faces_dataset/s19/3.pgm  \n",
            "  inflating: Data/faces_dataset/s19/4.pgm  \n",
            "  inflating: Data/faces_dataset/s19/5.pgm  \n",
            "  inflating: Data/faces_dataset/s19/6.pgm  \n",
            "  inflating: Data/faces_dataset/s19/7.pgm  \n",
            "  inflating: Data/faces_dataset/s19/8.pgm  \n",
            "  inflating: Data/faces_dataset/s19/9.pgm  \n",
            "   creating: Data/faces_dataset/s2/\n",
            "  inflating: Data/faces_dataset/s2/1.pgm  \n",
            "  inflating: Data/faces_dataset/s2/10.pgm  \n",
            "  inflating: Data/faces_dataset/s2/2.pgm  \n",
            "  inflating: Data/faces_dataset/s2/3.pgm  \n",
            "  inflating: Data/faces_dataset/s2/4.pgm  \n",
            "  inflating: Data/faces_dataset/s2/5.pgm  \n",
            "  inflating: Data/faces_dataset/s2/6.pgm  \n",
            "  inflating: Data/faces_dataset/s2/7.pgm  \n",
            "  inflating: Data/faces_dataset/s2/8.pgm  \n",
            "  inflating: Data/faces_dataset/s2/9.pgm  \n",
            "   creating: Data/faces_dataset/s20/\n",
            "  inflating: Data/faces_dataset/s20/1.pgm  \n",
            "  inflating: Data/faces_dataset/s20/10.pgm  \n",
            "  inflating: Data/faces_dataset/s20/2.pgm  \n",
            "  inflating: Data/faces_dataset/s20/3.pgm  \n",
            "  inflating: Data/faces_dataset/s20/4.pgm  \n",
            "  inflating: Data/faces_dataset/s20/5.pgm  \n",
            "  inflating: Data/faces_dataset/s20/6.pgm  \n",
            "  inflating: Data/faces_dataset/s20/7.pgm  \n",
            "  inflating: Data/faces_dataset/s20/8.pgm  \n",
            "  inflating: Data/faces_dataset/s20/9.pgm  \n",
            "   creating: Data/faces_dataset/s21/\n",
            "  inflating: Data/faces_dataset/s21/1.pgm  \n",
            "  inflating: Data/faces_dataset/s21/10.pgm  \n",
            "  inflating: Data/faces_dataset/s21/2.pgm  \n",
            "  inflating: Data/faces_dataset/s21/3.pgm  \n",
            "  inflating: Data/faces_dataset/s21/4.pgm  \n",
            "  inflating: Data/faces_dataset/s21/5.pgm  \n",
            "  inflating: Data/faces_dataset/s21/6.pgm  \n",
            "  inflating: Data/faces_dataset/s21/7.pgm  \n",
            "  inflating: Data/faces_dataset/s21/8.pgm  \n",
            "  inflating: Data/faces_dataset/s21/9.pgm  \n",
            "   creating: Data/faces_dataset/s22/\n",
            "  inflating: Data/faces_dataset/s22/1.pgm  \n",
            "  inflating: Data/faces_dataset/s22/10.pgm  \n",
            "  inflating: Data/faces_dataset/s22/2.pgm  \n",
            "  inflating: Data/faces_dataset/s22/3.pgm  \n",
            "  inflating: Data/faces_dataset/s22/4.pgm  \n",
            "  inflating: Data/faces_dataset/s22/5.pgm  \n",
            "  inflating: Data/faces_dataset/s22/6.pgm  \n",
            "  inflating: Data/faces_dataset/s22/7.pgm  \n",
            "  inflating: Data/faces_dataset/s22/8.pgm  \n",
            "  inflating: Data/faces_dataset/s22/9.pgm  \n",
            "   creating: Data/faces_dataset/s23/\n",
            "  inflating: Data/faces_dataset/s23/1.pgm  \n",
            "  inflating: Data/faces_dataset/s23/10.pgm  \n",
            "  inflating: Data/faces_dataset/s23/2.pgm  \n",
            "  inflating: Data/faces_dataset/s23/3.pgm  \n",
            "  inflating: Data/faces_dataset/s23/4.pgm  \n",
            "  inflating: Data/faces_dataset/s23/5.pgm  \n",
            "  inflating: Data/faces_dataset/s23/6.pgm  \n",
            "  inflating: Data/faces_dataset/s23/7.pgm  \n",
            "  inflating: Data/faces_dataset/s23/8.pgm  \n",
            "  inflating: Data/faces_dataset/s23/9.pgm  \n",
            "   creating: Data/faces_dataset/s24/\n",
            "  inflating: Data/faces_dataset/s24/1.pgm  \n",
            "  inflating: Data/faces_dataset/s24/10.pgm  \n",
            "  inflating: Data/faces_dataset/s24/2.pgm  \n",
            "  inflating: Data/faces_dataset/s24/3.pgm  \n",
            "  inflating: Data/faces_dataset/s24/4.pgm  \n",
            "  inflating: Data/faces_dataset/s24/5.pgm  \n",
            "  inflating: Data/faces_dataset/s24/6.pgm  \n",
            "  inflating: Data/faces_dataset/s24/7.pgm  \n",
            "  inflating: Data/faces_dataset/s24/8.pgm  \n",
            "  inflating: Data/faces_dataset/s24/9.pgm  \n",
            "   creating: Data/faces_dataset/s25/\n",
            "  inflating: Data/faces_dataset/s25/1.pgm  \n",
            "  inflating: Data/faces_dataset/s25/10.pgm  \n",
            "  inflating: Data/faces_dataset/s25/2.pgm  \n",
            "  inflating: Data/faces_dataset/s25/3.pgm  \n",
            "  inflating: Data/faces_dataset/s25/4.pgm  \n",
            "  inflating: Data/faces_dataset/s25/5.pgm  \n",
            "  inflating: Data/faces_dataset/s25/6.pgm  \n",
            "  inflating: Data/faces_dataset/s25/7.pgm  \n",
            "  inflating: Data/faces_dataset/s25/8.pgm  \n",
            "  inflating: Data/faces_dataset/s25/9.pgm  \n",
            "   creating: Data/faces_dataset/s26/\n",
            "  inflating: Data/faces_dataset/s26/1.pgm  \n",
            "  inflating: Data/faces_dataset/s26/10.pgm  \n",
            "  inflating: Data/faces_dataset/s26/2.pgm  \n",
            "  inflating: Data/faces_dataset/s26/3.pgm  \n",
            "  inflating: Data/faces_dataset/s26/4.pgm  \n",
            "  inflating: Data/faces_dataset/s26/5.pgm  \n",
            "  inflating: Data/faces_dataset/s26/6.pgm  \n",
            "  inflating: Data/faces_dataset/s26/7.pgm  \n",
            "  inflating: Data/faces_dataset/s26/8.pgm  \n",
            "  inflating: Data/faces_dataset/s26/9.pgm  \n",
            "   creating: Data/faces_dataset/s27/\n",
            "  inflating: Data/faces_dataset/s27/1.pgm  \n",
            "  inflating: Data/faces_dataset/s27/10.pgm  \n",
            "  inflating: Data/faces_dataset/s27/2.pgm  \n",
            "  inflating: Data/faces_dataset/s27/3.pgm  \n",
            "  inflating: Data/faces_dataset/s27/4.pgm  \n",
            "  inflating: Data/faces_dataset/s27/5.pgm  \n",
            "  inflating: Data/faces_dataset/s27/6.pgm  \n",
            "  inflating: Data/faces_dataset/s27/7.pgm  \n",
            "  inflating: Data/faces_dataset/s27/8.pgm  \n",
            "  inflating: Data/faces_dataset/s27/9.pgm  \n",
            "   creating: Data/faces_dataset/s28/\n",
            "  inflating: Data/faces_dataset/s28/1.pgm  \n",
            "  inflating: Data/faces_dataset/s28/10.pgm  \n",
            "  inflating: Data/faces_dataset/s28/2.pgm  \n",
            "  inflating: Data/faces_dataset/s28/3.pgm  \n",
            "  inflating: Data/faces_dataset/s28/4.pgm  \n",
            "  inflating: Data/faces_dataset/s28/5.pgm  \n",
            "  inflating: Data/faces_dataset/s28/6.pgm  \n",
            "  inflating: Data/faces_dataset/s28/7.pgm  \n",
            "  inflating: Data/faces_dataset/s28/8.pgm  \n",
            "  inflating: Data/faces_dataset/s28/9.pgm  \n",
            "   creating: Data/faces_dataset/s29/\n",
            "  inflating: Data/faces_dataset/s29/1.pgm  \n",
            "  inflating: Data/faces_dataset/s29/10.pgm  \n",
            "  inflating: Data/faces_dataset/s29/2.pgm  \n",
            "  inflating: Data/faces_dataset/s29/3.pgm  \n",
            "  inflating: Data/faces_dataset/s29/4.pgm  \n",
            "  inflating: Data/faces_dataset/s29/5.pgm  \n",
            "  inflating: Data/faces_dataset/s29/6.pgm  \n",
            "  inflating: Data/faces_dataset/s29/7.pgm  \n",
            "  inflating: Data/faces_dataset/s29/8.pgm  \n",
            "  inflating: Data/faces_dataset/s29/9.pgm  \n",
            "   creating: Data/faces_dataset/s3/\n",
            "  inflating: Data/faces_dataset/s3/1.pgm  \n",
            "  inflating: Data/faces_dataset/s3/10.pgm  \n",
            "  inflating: Data/faces_dataset/s3/2.pgm  \n",
            "  inflating: Data/faces_dataset/s3/3.pgm  \n",
            "  inflating: Data/faces_dataset/s3/4.pgm  \n",
            "  inflating: Data/faces_dataset/s3/5.pgm  \n",
            "  inflating: Data/faces_dataset/s3/6.pgm  \n",
            "  inflating: Data/faces_dataset/s3/7.pgm  \n",
            "  inflating: Data/faces_dataset/s3/8.pgm  \n",
            "  inflating: Data/faces_dataset/s3/9.pgm  \n",
            "   creating: Data/faces_dataset/s30/\n",
            "  inflating: Data/faces_dataset/s30/1.pgm  \n",
            "  inflating: Data/faces_dataset/s30/10.pgm  \n",
            "  inflating: Data/faces_dataset/s30/2.pgm  \n",
            "  inflating: Data/faces_dataset/s30/3.pgm  \n",
            "  inflating: Data/faces_dataset/s30/4.pgm  \n",
            "  inflating: Data/faces_dataset/s30/5.pgm  \n",
            "  inflating: Data/faces_dataset/s30/6.pgm  \n",
            "  inflating: Data/faces_dataset/s30/7.pgm  \n",
            "  inflating: Data/faces_dataset/s30/8.pgm  \n",
            "  inflating: Data/faces_dataset/s30/9.pgm  \n",
            "   creating: Data/faces_dataset/s31/\n",
            "  inflating: Data/faces_dataset/s31/1.pgm  \n",
            "  inflating: Data/faces_dataset/s31/10.pgm  \n",
            "  inflating: Data/faces_dataset/s31/2.pgm  \n",
            "  inflating: Data/faces_dataset/s31/3.pgm  \n",
            "  inflating: Data/faces_dataset/s31/4.pgm  \n",
            "  inflating: Data/faces_dataset/s31/5.pgm  \n",
            "  inflating: Data/faces_dataset/s31/6.pgm  \n",
            "  inflating: Data/faces_dataset/s31/7.pgm  \n",
            "  inflating: Data/faces_dataset/s31/8.pgm  \n",
            "  inflating: Data/faces_dataset/s31/9.pgm  \n",
            "   creating: Data/faces_dataset/s32/\n",
            "  inflating: Data/faces_dataset/s32/1.pgm  \n",
            "  inflating: Data/faces_dataset/s32/10.pgm  \n",
            "  inflating: Data/faces_dataset/s32/2.pgm  \n",
            "  inflating: Data/faces_dataset/s32/3.pgm  \n",
            "  inflating: Data/faces_dataset/s32/4.pgm  \n",
            "  inflating: Data/faces_dataset/s32/5.pgm  \n",
            "  inflating: Data/faces_dataset/s32/6.pgm  \n",
            "  inflating: Data/faces_dataset/s32/7.pgm  \n",
            "  inflating: Data/faces_dataset/s32/8.pgm  \n",
            "  inflating: Data/faces_dataset/s32/9.pgm  \n",
            "   creating: Data/faces_dataset/s33/\n",
            "  inflating: Data/faces_dataset/s33/1.pgm  \n",
            "  inflating: Data/faces_dataset/s33/10.pgm  \n",
            "  inflating: Data/faces_dataset/s33/2.pgm  \n",
            "  inflating: Data/faces_dataset/s33/3.pgm  \n",
            "  inflating: Data/faces_dataset/s33/4.pgm  \n",
            "  inflating: Data/faces_dataset/s33/5.pgm  \n",
            "  inflating: Data/faces_dataset/s33/6.pgm  \n",
            "  inflating: Data/faces_dataset/s33/7.pgm  \n",
            "  inflating: Data/faces_dataset/s33/8.pgm  \n",
            "  inflating: Data/faces_dataset/s33/9.pgm  \n",
            "   creating: Data/faces_dataset/s34/\n",
            "  inflating: Data/faces_dataset/s34/1.pgm  \n",
            "  inflating: Data/faces_dataset/s34/10.pgm  \n",
            "  inflating: Data/faces_dataset/s34/2.pgm  \n",
            "  inflating: Data/faces_dataset/s34/3.pgm  \n",
            "  inflating: Data/faces_dataset/s34/4.pgm  \n",
            "  inflating: Data/faces_dataset/s34/5.pgm  \n",
            "  inflating: Data/faces_dataset/s34/6.pgm  \n",
            "  inflating: Data/faces_dataset/s34/7.pgm  \n",
            "  inflating: Data/faces_dataset/s34/8.pgm  \n",
            "  inflating: Data/faces_dataset/s34/9.pgm  \n",
            "   creating: Data/faces_dataset/s35/\n",
            "  inflating: Data/faces_dataset/s35/1.pgm  \n",
            "  inflating: Data/faces_dataset/s35/10.pgm  \n",
            "  inflating: Data/faces_dataset/s35/2.pgm  \n",
            "  inflating: Data/faces_dataset/s35/3.pgm  \n",
            "  inflating: Data/faces_dataset/s35/4.pgm  \n",
            "  inflating: Data/faces_dataset/s35/5.pgm  \n",
            "  inflating: Data/faces_dataset/s35/6.pgm  \n",
            "  inflating: Data/faces_dataset/s35/7.pgm  \n",
            "  inflating: Data/faces_dataset/s35/8.pgm  \n",
            "  inflating: Data/faces_dataset/s35/9.pgm  \n",
            "   creating: Data/faces_dataset/s36/\n",
            "  inflating: Data/faces_dataset/s36/1.pgm  \n",
            "  inflating: Data/faces_dataset/s36/10.pgm  \n",
            "  inflating: Data/faces_dataset/s36/2.pgm  \n",
            "  inflating: Data/faces_dataset/s36/3.pgm  \n",
            "  inflating: Data/faces_dataset/s36/4.pgm  \n",
            "  inflating: Data/faces_dataset/s36/5.pgm  \n",
            "  inflating: Data/faces_dataset/s36/6.pgm  \n",
            "  inflating: Data/faces_dataset/s36/7.pgm  \n",
            "  inflating: Data/faces_dataset/s36/8.pgm  \n",
            "  inflating: Data/faces_dataset/s36/9.pgm  \n",
            "   creating: Data/faces_dataset/s37/\n",
            "  inflating: Data/faces_dataset/s37/1.pgm  \n",
            "  inflating: Data/faces_dataset/s37/10.pgm  \n",
            "  inflating: Data/faces_dataset/s37/2.pgm  \n",
            "  inflating: Data/faces_dataset/s37/3.pgm  \n",
            "  inflating: Data/faces_dataset/s37/4.pgm  \n",
            "  inflating: Data/faces_dataset/s37/5.pgm  \n",
            "  inflating: Data/faces_dataset/s37/6.pgm  \n",
            "  inflating: Data/faces_dataset/s37/7.pgm  \n",
            "  inflating: Data/faces_dataset/s37/8.pgm  \n",
            "  inflating: Data/faces_dataset/s37/9.pgm  \n",
            "   creating: Data/faces_dataset/s38/\n",
            "  inflating: Data/faces_dataset/s38/1.pgm  \n",
            "  inflating: Data/faces_dataset/s38/10.pgm  \n",
            "  inflating: Data/faces_dataset/s38/2.pgm  \n",
            "  inflating: Data/faces_dataset/s38/3.pgm  \n",
            "  inflating: Data/faces_dataset/s38/4.pgm  \n",
            "  inflating: Data/faces_dataset/s38/5.pgm  \n",
            "  inflating: Data/faces_dataset/s38/6.pgm  \n",
            "  inflating: Data/faces_dataset/s38/7.pgm  \n",
            "  inflating: Data/faces_dataset/s38/8.pgm  \n",
            "  inflating: Data/faces_dataset/s38/9.pgm  \n",
            "   creating: Data/faces_dataset/s39/\n",
            "  inflating: Data/faces_dataset/s39/1.pgm  \n",
            "  inflating: Data/faces_dataset/s39/10.pgm  \n",
            "  inflating: Data/faces_dataset/s39/2.pgm  \n",
            "  inflating: Data/faces_dataset/s39/3.pgm  \n",
            "  inflating: Data/faces_dataset/s39/4.pgm  \n",
            "  inflating: Data/faces_dataset/s39/5.pgm  \n",
            "  inflating: Data/faces_dataset/s39/6.pgm  \n",
            "  inflating: Data/faces_dataset/s39/7.pgm  \n",
            "  inflating: Data/faces_dataset/s39/8.pgm  \n",
            "  inflating: Data/faces_dataset/s39/9.pgm  \n",
            "   creating: Data/faces_dataset/s4/\n",
            "  inflating: Data/faces_dataset/s4/1.pgm  \n",
            "  inflating: Data/faces_dataset/s4/10.pgm  \n",
            "  inflating: Data/faces_dataset/s4/2.pgm  \n",
            "  inflating: Data/faces_dataset/s4/3.pgm  \n",
            "  inflating: Data/faces_dataset/s4/4.pgm  \n",
            "  inflating: Data/faces_dataset/s4/5.pgm  \n",
            "  inflating: Data/faces_dataset/s4/6.pgm  \n",
            "  inflating: Data/faces_dataset/s4/7.pgm  \n",
            "  inflating: Data/faces_dataset/s4/8.pgm  \n",
            "  inflating: Data/faces_dataset/s4/9.pgm  \n",
            "   creating: Data/faces_dataset/s40/\n",
            "  inflating: Data/faces_dataset/s40/1.pgm  \n",
            "  inflating: Data/faces_dataset/s40/10.pgm  \n",
            "  inflating: Data/faces_dataset/s40/2.pgm  \n",
            "  inflating: Data/faces_dataset/s40/3.pgm  \n",
            "  inflating: Data/faces_dataset/s40/4.pgm  \n",
            "  inflating: Data/faces_dataset/s40/5.pgm  \n",
            "  inflating: Data/faces_dataset/s40/6.pgm  \n",
            "  inflating: Data/faces_dataset/s40/7.pgm  \n",
            "  inflating: Data/faces_dataset/s40/8.pgm  \n",
            "  inflating: Data/faces_dataset/s40/9.pgm  \n",
            "   creating: Data/faces_dataset/s5/\n",
            "  inflating: Data/faces_dataset/s5/1.pgm  \n",
            "  inflating: Data/faces_dataset/s5/10.pgm  \n",
            "  inflating: Data/faces_dataset/s5/2.pgm  \n",
            "  inflating: Data/faces_dataset/s5/3.pgm  \n",
            "  inflating: Data/faces_dataset/s5/4.pgm  \n",
            "  inflating: Data/faces_dataset/s5/5.pgm  \n",
            "  inflating: Data/faces_dataset/s5/6.pgm  \n",
            "  inflating: Data/faces_dataset/s5/7.pgm  \n",
            "  inflating: Data/faces_dataset/s5/8.pgm  \n",
            "  inflating: Data/faces_dataset/s5/9.pgm  \n",
            "   creating: Data/faces_dataset/s6/\n",
            "  inflating: Data/faces_dataset/s6/1.pgm  \n",
            "  inflating: Data/faces_dataset/s6/10.pgm  \n",
            "  inflating: Data/faces_dataset/s6/2.pgm  \n",
            "  inflating: Data/faces_dataset/s6/3.pgm  \n",
            "  inflating: Data/faces_dataset/s6/4.pgm  \n",
            "  inflating: Data/faces_dataset/s6/5.pgm  \n",
            "  inflating: Data/faces_dataset/s6/6.pgm  \n",
            "  inflating: Data/faces_dataset/s6/7.pgm  \n",
            "  inflating: Data/faces_dataset/s6/8.pgm  \n",
            "  inflating: Data/faces_dataset/s6/9.pgm  \n",
            "   creating: Data/faces_dataset/s7/\n",
            "  inflating: Data/faces_dataset/s7/1.pgm  \n",
            "  inflating: Data/faces_dataset/s7/10.pgm  \n",
            "  inflating: Data/faces_dataset/s7/2.pgm  \n",
            "  inflating: Data/faces_dataset/s7/3.pgm  \n",
            "  inflating: Data/faces_dataset/s7/4.pgm  \n",
            "  inflating: Data/faces_dataset/s7/5.pgm  \n",
            "  inflating: Data/faces_dataset/s7/6.pgm  \n",
            "  inflating: Data/faces_dataset/s7/7.pgm  \n",
            "  inflating: Data/faces_dataset/s7/8.pgm  \n",
            "  inflating: Data/faces_dataset/s7/9.pgm  \n",
            "   creating: Data/faces_dataset/s8/\n",
            "  inflating: Data/faces_dataset/s8/1.pgm  \n",
            "  inflating: Data/faces_dataset/s8/10.pgm  \n",
            "  inflating: Data/faces_dataset/s8/2.pgm  \n",
            "  inflating: Data/faces_dataset/s8/3.pgm  \n",
            "  inflating: Data/faces_dataset/s8/4.pgm  \n",
            "  inflating: Data/faces_dataset/s8/5.pgm  \n",
            "  inflating: Data/faces_dataset/s8/6.pgm  \n",
            "  inflating: Data/faces_dataset/s8/7.pgm  \n",
            "  inflating: Data/faces_dataset/s8/8.pgm  \n",
            "  inflating: Data/faces_dataset/s8/9.pgm  \n",
            "   creating: Data/faces_dataset/s9/\n",
            "  inflating: Data/faces_dataset/s9/1.pgm  \n",
            "  inflating: Data/faces_dataset/s9/10.pgm  \n",
            "  inflating: Data/faces_dataset/s9/2.pgm  \n",
            "  inflating: Data/faces_dataset/s9/3.pgm  \n",
            "  inflating: Data/faces_dataset/s9/4.pgm  \n",
            "  inflating: Data/faces_dataset/s9/5.pgm  \n",
            "  inflating: Data/faces_dataset/s9/6.pgm  \n",
            "  inflating: Data/faces_dataset/s9/7.pgm  \n",
            "  inflating: Data/faces_dataset/s9/8.pgm  \n",
            "  inflating: Data/faces_dataset/s9/9.pgm  \n"
          ]
        }
      ],
      "source": [
        "!unzip Data.zip"
      ]
    },
    {
      "cell_type": "code",
      "execution_count": 3,
      "metadata": {
        "colab": {
          "base_uri": "https://localhost:8080/"
        },
        "id": "9V3xp8TUDJO7",
        "outputId": "f30557c6-5089-414a-8058-3a5c6b1e6a9f"
      },
      "outputs": [
        {
          "name": "stdout",
          "output_type": "stream",
          "text": [
            "Thu Apr 11 20:39:08 2024       \n",
            "+---------------------------------------------------------------------------------------+\n",
            "| NVIDIA-SMI 535.104.05             Driver Version: 535.104.05   CUDA Version: 12.2     |\n",
            "|-----------------------------------------+----------------------+----------------------+\n",
            "| GPU  Name                 Persistence-M | Bus-Id        Disp.A | Volatile Uncorr. ECC |\n",
            "| Fan  Temp   Perf          Pwr:Usage/Cap |         Memory-Usage | GPU-Util  Compute M. |\n",
            "|                                         |                      |               MIG M. |\n",
            "|=========================================+======================+======================|\n",
            "|   0  Tesla T4                       Off | 00000000:00:04.0 Off |                    0 |\n",
            "| N/A   47C    P8              10W /  70W |      0MiB / 15360MiB |      0%      Default |\n",
            "|                                         |                      |                  N/A |\n",
            "+-----------------------------------------+----------------------+----------------------+\n",
            "                                                                                         \n",
            "+---------------------------------------------------------------------------------------+\n",
            "| Processes:                                                                            |\n",
            "|  GPU   GI   CI        PID   Type   Process name                            GPU Memory |\n",
            "|        ID   ID                                                             Usage      |\n",
            "|=======================================================================================|\n",
            "|  No running processes found                                                           |\n",
            "+---------------------------------------------------------------------------------------+\n"
          ]
        }
      ],
      "source": [
        "!nvidia-smi"
      ]
    },
    {
      "cell_type": "code",
      "execution_count": 4,
      "metadata": {
        "collapsed": true,
        "id": "vz2V3SDUBdHQ"
      },
      "outputs": [],
      "source": [
        "def read_image(filename, byteorder='>'):\n",
        "\n",
        "    # First, we read the image as a raw file into the buffer\n",
        "    with open(filename, 'rb') as f:\n",
        "        buffer = f.read()\n",
        "\n",
        "    # Using regex, we extract the header, width, height, and maxval of the image\n",
        "    header, width, height, maxval = re.search(\n",
        "        rb\"(^P5\\s(?:\\s*#.*[\\r\\n])*\" +\n",
        "        rb\"(\\d+)\\s(?:\\s*#.*[\\r\\n])*\" +\n",
        "        rb\"(\\d+)\\s(?:\\s*#.*[\\r\\n])*\" +\n",
        "        rb\"(\\d+)\\s(?:\\s*#.*[\\r\\n]\\s)*)\", buffer).groups()\n",
        "\n",
        "    # Then, we convert the image to a numpy array using np.frombuffer which interprets the buffer as a one-dimensional array\n",
        "    return np.frombuffer(buffer,\n",
        "                         dtype='u1' if int(maxval) < 256 else byteorder+'u2',\n",
        "                         count=int(width)*int(height),\n",
        "                         offset=len(header)).reshape((int(height), int(width)))\n"
      ]
    },
    {
      "cell_type": "markdown",
      "metadata": {
        "id": "CaD6amTtBdHR"
      },
      "source": [
        "For an example, Let us open one image,"
      ]
    },
    {
      "cell_type": "code",
      "execution_count": 5,
      "metadata": {
        "colab": {
          "base_uri": "https://localhost:8080/",
          "height": 129
        },
        "id": "SS2T9qU9BdHR",
        "outputId": "a664c180-2b96-400c-ac6b-e68d4a574d3e"
      },
      "outputs": [
        {
          "data": {
            "image/png": "[encoded data removed]",
            "text/plain": [
              "<PIL.PpmImagePlugin.PpmImageFile image mode=L size=92x112>"
            ]
          },
          "execution_count": 5,
          "metadata": {},
          "output_type": "execute_result"
        }
      ],
      "source": [
        "Image.open(\"/content/Data/faces_dataset/s10/1.pgm\")"
      ]
    },
    {
      "cell_type": "markdown",
      "metadata": {
        "id": "Im7x0uVtBdHS"
      },
      "source": [
        "When we feed this image to our read_image function, it will return as the numpy array,"
      ]
    },
    {
      "cell_type": "code",
      "execution_count": 6,
      "metadata": {
        "collapsed": true,
        "id": "cwGjf4uTBdHS"
      },
      "outputs": [],
      "source": [
        "img = read_image('/content/Data/faces_dataset/s10/1.pgm')"
      ]
    },
    {
      "cell_type": "code",
      "execution_count": 7,
      "metadata": {
        "colab": {
          "base_uri": "https://localhost:8080/"
        },
        "id": "x7WnEKBJBdHT",
        "outputId": "c596eb9f-df24-42c3-92bd-968294cb984b"
      },
      "outputs": [
        {
          "data": {
            "text/plain": [
              "(112, 92)"
            ]
          },
          "execution_count": 7,
          "metadata": {},
          "output_type": "execute_result"
        }
      ],
      "source": [
        "img.shape"
      ]
    },
    {
      "cell_type": "markdown",
      "metadata": {
        "id": "xvFA83WqBdHT"
      },
      "source": [
        "Next, we'll create a function named `generate_pairs` to prepare our dataset for training. For the Siamese network to work effectively, it requires data to be structured as pairs, each labeled as either genuine (matching pair) or impostor (non-matching pair).\n",
        "\n",
        "To begin, we select two images from the same folder, label this pair as genuine by adding it to the `x_genuine_pair` array, and set their corresponding label in `y_genuine` to 1. We then choose two images from different folders, label this pair as an impostor, add it to the `x_impostor_pair` array, and set their label in `y_impostor` to 0.\n",
        "\n",
        "In the final step, we merge the `x_genuine_pair` and `x_impostor_pair` into a single dataset `X`, and similarly combine `y_genuine` and `y_impostor` into a single label set `Y`."
      ]
    },
    {
      "cell_type": "code",
      "execution_count": 8,
      "metadata": {
        "collapsed": true,
        "id": "spl3-uZyBdHT"
      },
      "outputs": [],
      "source": [
        "\n",
        "def generate_pairs(resize_factor=2, total_pairs=10000):\n",
        "    initial_image = read_image('/content/Data/faces_dataset/s1/1.pgm', 'rw+')\n",
        "    initial_image = initial_image[::resize_factor, ::resize_factor]\n",
        "    img_height, img_width = initial_image.shape\n",
        "\n",
        "    # Initialize arrays to store image pairs and labels\n",
        "    genuine_pairs = np.zeros([total_pairs, 2, 1, img_height, img_width])\n",
        "    genuine_labels = np.ones([total_pairs, 1])\n",
        "    impostor_pairs = np.zeros([total_pairs, 2, 1, img_height, img_width])\n",
        "    impostor_labels = np.zeros([total_pairs, 1])\n",
        "\n",
        "    for i in range(40):\n",
        "        for j in range(total_pairs // 40):\n",
        "            idx1, idx2 = np.random.choice(10, 2, replace=False)\n",
        "            img1_path = f'/content/Data/faces_dataset/s{i+1}/{idx1+1}.pgm'\n",
        "            img2_path = f'/content/Data/faces_dataset/s{i+1}/{idx2+1}.pgm'\n",
        "            img1, img2 = read_image(img1_path, 'rw+')[::resize_factor, ::resize_factor], read_image(img2_path, 'rw+')[::resize_factor, ::resize_factor]\n",
        "            pair_index = i * (total_pairs // 40) + j\n",
        "            genuine_pairs[pair_index, 0, 0, :, :] = img1\n",
        "            genuine_pairs[pair_index, 1, 0, :, :] = img2\n",
        "\n",
        "    for k in range(total_pairs):\n",
        "        idx1, idx2 = np.random.choice(40, 2, replace=False)\n",
        "        img1_path = f'/content/Data/faces_dataset/s{idx1+1}/{(k % 10)+1}.pgm'\n",
        "        img2_path = f'/content/Data/faces_dataset/s{idx2+1}/{(k % 10)+1}.pgm'\n",
        "        img1, img2 = read_image(img1_path, 'rw+')[::resize_factor, ::resize_factor], read_image(img2_path, 'rw+')[::resize_factor, ::resize_factor]\n",
        "        impostor_pairs[k, 0, 0, :, :] = img1\n",
        "        impostor_pairs[k, 1, 0, :, :] = img2\n",
        "\n",
        "    # Combine genuine and impostor pairs\n",
        "    pair_data = np.concatenate([genuine_pairs, impostor_pairs], axis=0) / 255\n",
        "    labels = np.concatenate([genuine_labels, impostor_labels], axis=0)\n",
        "\n",
        "    return pair_data, labels\n"
      ]
    },
    {
      "cell_type": "markdown",
      "metadata": {
        "id": "TxW6mPekBdHU"
      },
      "source": [
        "Now, we generate our data and check our data size. As you can see we have 20,000 data points, out of these 10,000 are genuine pairs and 10,000 are imposite pairs."
      ]
    },
    {
      "cell_type": "code",
      "execution_count": 9,
      "metadata": {
        "collapsed": true,
        "id": "Okx8oY2HBdHU"
      },
      "outputs": [],
      "source": [
        "X, Y = generate_pairs()"
      ]
    },
    {
      "cell_type": "code",
      "execution_count": 10,
      "metadata": {
        "colab": {
          "base_uri": "https://localhost:8080/"
        },
        "id": "eKJB0BUHBdHU",
        "outputId": "fc486d92-4bd1-4c38-8562-3931b2c8e11b"
      },
      "outputs": [
        {
          "data": {
            "text/plain": [
              "(20000, 2, 1, 56, 46)"
            ]
          },
          "execution_count": 10,
          "metadata": {},
          "output_type": "execute_result"
        }
      ],
      "source": [
        "X.shape"
      ]
    },
    {
      "cell_type": "code",
      "execution_count": 11,
      "metadata": {
        "colab": {
          "base_uri": "https://localhost:8080/"
        },
        "id": "KvIWoO5TBdHU",
        "outputId": "9447ce88-185a-44b3-8d57-9a385cb08d4e",
        "scrolled": true
      },
      "outputs": [
        {
          "data": {
            "text/plain": [
              "(20000, 1)"
            ]
          },
          "execution_count": 11,
          "metadata": {},
          "output_type": "execute_result"
        }
      ],
      "source": [
        "Y.shape"
      ]
    },
    {
      "cell_type": "markdown",
      "metadata": {
        "id": "BtwdnXgWBdHV"
      },
      "source": [
        "Next, we split our data for training and testing with 75% training and 25% testing proportions:"
      ]
    },
    {
      "cell_type": "code",
      "execution_count": 12,
      "metadata": {
        "collapsed": true,
        "id": "KhrpJHupBdHV"
      },
      "outputs": [],
      "source": [
        "x_train, x_test, y_train, y_test = train_test_split(X, Y, test_size=.25)"
      ]
    },
    {
      "cell_type": "markdown",
      "metadata": {
        "id": "yVISHBt_BdHV"
      },
      "source": [
        "Now that, we have successfully generated our data, we build our siamese network. First, we define the base network which is basically a convolutional network used for feature extraction. We build two convolutional layers with rectified linear unit (ReLU) activations and max pooling followed by flat layer."
      ]
    },
    {
      "cell_type": "code",
      "execution_count": 13,
      "metadata": {
        "collapsed": true,
        "id": "i6q3nLn1BdHV"
      },
      "outputs": [],
      "source": [
        "def build_base_network(input_shape):\n",
        "\n",
        "    seq = Sequential()\n",
        "\n",
        "    nb_filter = [6, 12]\n",
        "    kernel_size = 3\n",
        "\n",
        "\n",
        "    # Convolutional Layer 1\n",
        "    seq.add(Convolution2D(nb_filter[0], (kernel_size, kernel_size), input_shape=input_shape, padding='valid', data_format='channels_first'))\n",
        "    seq.add(Activation('relu'))\n",
        "    seq.add(MaxPooling2D(pool_size=(2, 2), data_format='channels_first'))\n",
        "    seq.add(Dropout(.25))\n",
        "\n",
        "    # Convolutional Layer 2\n",
        "    seq.add(Convolution2D(nb_filter[1], (kernel_size, kernel_size), padding='valid', data_format='channels_first'))\n",
        "    seq.add(Activation('relu'))\n",
        "    seq.add(MaxPooling2D(pool_size=(2, 2), data_format='channels_first'))\n",
        "    seq.add(Dropout(.25))\n",
        "\n",
        "\n",
        "    #flatten\n",
        "    seq.add(Flatten())\n",
        "    seq.add(Dense(128, activation='relu'))\n",
        "    seq.add(Dropout(0.1))\n",
        "    seq.add(Dense(50, activation='relu'))\n",
        "    return seq\n"
      ]
    },
    {
      "cell_type": "markdown",
      "metadata": {
        "id": "sBKZFKkXBdHW"
      },
      "source": [
        "Next, we feed the image pair, to the base network, which will return the embeddings that is, feature vectors:"
      ]
    },
    {
      "cell_type": "code",
      "execution_count": 14,
      "metadata": {
        "collapsed": true,
        "id": "zGZpP3I9BdHW"
      },
      "outputs": [],
      "source": [
        "input_dim = x_train.shape[2:]\n",
        "img_a = Input(shape=input_dim)\n",
        "img_b = Input(shape=input_dim)"
      ]
    },
    {
      "cell_type": "code",
      "execution_count": 15,
      "metadata": {
        "collapsed": true,
        "id": "9hNrwCh4BdHW"
      },
      "outputs": [],
      "source": [
        "base_network = build_base_network(input_dim)\n",
        "feat_vecs_a = base_network(img_a)\n",
        "feat_vecs_b = base_network(img_b)"
      ]
    },
    {
      "cell_type": "markdown",
      "metadata": {
        "id": "8cOiSjRRBdHW"
      },
      "source": [
        "These feat_vecs_a and feat_vecs_b are the feature vectors of our image pair. Next, we feed this feature vectors to the energy function to compute the distance between them, we use Euclidean distance as our energy function."
      ]
    },
    {
      "cell_type": "code",
      "execution_count": 16,
      "metadata": {
        "id": "Ol2UhCc5BdHW"
      },
      "outputs": [],
      "source": [
        "import tensorflow as tf\n"
      ]
    },
    {
      "cell_type": "code",
      "execution_count": 17,
      "metadata": {
        "collapsed": true,
        "id": "koUY_xA7BdHW"
      },
      "outputs": [],
      "source": [
        "def euclidean_distance(vects):\n",
        "    x, y = vects\n",
        "    return tf.math.sqrt(tf.reduce_sum(tf.math.square(x - y), axis=1, keepdims=True))\n",
        "\n",
        "\n",
        "def eucl_dist_output_shape(shapes):\n",
        "    shape1, shape2 = shapes\n",
        "    return (shape1[0], 1)"
      ]
    },
    {
      "cell_type": "code",
      "execution_count": 18,
      "metadata": {
        "collapsed": true,
        "id": "bBxWw6k4BdHX"
      },
      "outputs": [],
      "source": [
        "distance = Lambda(euclidean_distance, output_shape=eucl_dist_output_shape)([feat_vecs_a, feat_vecs_b])"
      ]
    },
    {
      "cell_type": "markdown",
      "metadata": {
        "id": "OxmdZ7s3BdHX"
      },
      "source": [
        " Now, we set the epoch length to 13 and we use RMS prop for optimization and define our model."
      ]
    },
    {
      "cell_type": "code",
      "execution_count": 19,
      "metadata": {
        "colab": {
          "base_uri": "https://localhost:8080/"
        },
        "collapsed": true,
        "id": "k8NKaynBBdHX",
        "outputId": "594d5993-ea6f-4248-b76c-78516ae289b7"
      },
      "outputs": [
        {
          "name": "stdout",
          "output_type": "stream",
          "text": [
            "Model: \"model\"\n",
            "__________________________________________________________________________________________________\n",
            " Layer (type)                Output Shape                 Param #   Connected to                  \n",
            "==================================================================================================\n",
            " input_1 (InputLayer)        [(None, 1, 56, 46)]          0         []                            \n",
            "                                                                                                  \n",
            " input_2 (InputLayer)        [(None, 1, 56, 46)]          0         []                            \n",
            "                                                                                                  \n",
            " sequential (Sequential)     (None, 50)                   191618    ['input_1[0][0]',             \n",
            "                                                                     'input_2[0][0]']             \n",
            "                                                                                                  \n",
            " lambda (Lambda)             (None, 1)                    0         ['sequential[0][0]',          \n",
            "                                                                     'sequential[1][0]']          \n",
            "                                                                                                  \n",
            "==================================================================================================\n",
            "Total params: 191618 (748.51 KB)\n",
            "Trainable params: 191618 (748.51 KB)\n",
            "Non-trainable params: 0 (0.00 Byte)\n",
            "__________________________________________________________________________________________________\n"
          ]
        }
      ],
      "source": [
        "epochs = 13\n",
        "rms = RMSprop()\n",
        "\n",
        "model = Model(inputs=[img_a, img_b], outputs=distance)\n",
        "\n",
        "model.summary()"
      ]
    },
    {
      "cell_type": "markdown",
      "metadata": {
        "id": "k__7n78JBdHX"
      },
      "source": [
        "Next, we define our loss function as contrastive_loss function and compile the model."
      ]
    },
    {
      "cell_type": "code",
      "execution_count": 20,
      "metadata": {
        "collapsed": true,
        "id": "_gwxL709BdHX"
      },
      "outputs": [],
      "source": [
        "def contrastive_loss(y_true, y_pred):\n",
        "    margin = 1\n",
        "    square_pred = tf.math.square(y_pred)\n",
        "    margin_square = tf.math.square(tf.math.maximum(margin - y_pred, 0))\n",
        "    return tf.reduce_mean(y_true * square_pred + (1 - y_true) * margin_square)\n"
      ]
    },
    {
      "cell_type": "code",
      "execution_count": 21,
      "metadata": {
        "collapsed": true,
        "id": "Ny_33NkkBdHY"
      },
      "outputs": [],
      "source": [
        "model.compile(loss=contrastive_loss, optimizer=rms)"
      ]
    },
    {
      "cell_type": "code",
      "execution_count": 22,
      "metadata": {
        "collapsed": true,
        "id": "KUNIvQAnBdHY"
      },
      "outputs": [],
      "source": [
        "img_1 = x_train[:, 0]\n",
        "img2 = x_train[:, 1]"
      ]
    },
    {
      "cell_type": "code",
      "execution_count": 23,
      "metadata": {
        "colab": {
          "base_uri": "https://localhost:8080/"
        },
        "id": "NV_rEwgSBdHY",
        "outputId": "7fe98f7f-7ce4-47ee-bf7b-46bf494505c8"
      },
      "outputs": [
        {
          "name": "stdout",
          "output_type": "stream",
          "text": [
            "Epoch 1/13\n",
            "176/176 - 9s - loss: 0.1953 - val_loss: 0.2064 - 9s/epoch - 50ms/step\n",
            "Epoch 2/13\n",
            "176/176 - 1s - loss: 0.1286 - val_loss: 0.1922 - 911ms/epoch - 5ms/step\n",
            "Epoch 3/13\n",
            "176/176 - 1s - loss: 0.0970 - val_loss: 0.1375 - 910ms/epoch - 5ms/step\n",
            "Epoch 4/13\n",
            "176/176 - 1s - loss: 0.0778 - val_loss: 0.0612 - 897ms/epoch - 5ms/step\n",
            "Epoch 5/13\n",
            "176/176 - 1s - loss: 0.0651 - val_loss: 0.0560 - 911ms/epoch - 5ms/step\n",
            "Epoch 6/13\n",
            "176/176 - 1s - loss: 0.0560 - val_loss: 0.0506 - 1s/epoch - 6ms/step\n",
            "Epoch 7/13\n",
            "176/176 - 1s - loss: 0.0500 - val_loss: 0.0440 - 902ms/epoch - 5ms/step\n",
            "Epoch 8/13\n",
            "176/176 - 1s - loss: 0.0450 - val_loss: 0.0501 - 895ms/epoch - 5ms/step\n",
            "Epoch 9/13\n",
            "176/176 - 1s - loss: 0.0410 - val_loss: 0.0300 - 909ms/epoch - 5ms/step\n",
            "Epoch 10/13\n",
            "176/176 - 1s - loss: 0.0387 - val_loss: 0.0310 - 895ms/epoch - 5ms/step\n",
            "Epoch 11/13\n",
            "176/176 - 1s - loss: 0.0356 - val_loss: 0.0224 - 889ms/epoch - 5ms/step\n",
            "Epoch 12/13\n",
            "176/176 - 1s - loss: 0.0329 - val_loss: 0.0239 - 1s/epoch - 7ms/step\n",
            "Epoch 13/13\n",
            "176/176 - 1s - loss: 0.0309 - val_loss: 0.0208 - 1s/epoch - 8ms/step\n"
          ]
        },
        {
          "data": {
            "text/plain": [
              "<keras.src.callbacks.History at 0x7b6583676e90>"
            ]
          },
          "execution_count": 23,
          "metadata": {},
          "output_type": "execute_result"
        }
      ],
      "source": [
        "model.fit([img_1, img2], y_train, validation_split=0.25, batch_size=64, verbose=2, epochs=epochs)\n"
      ]
    },
    {
      "cell_type": "markdown",
      "metadata": {
        "id": "BzG4DrPyBdHY"
      },
      "source": [
        "Now, we make predictions with test data"
      ]
    },
    {
      "cell_type": "code",
      "execution_count": 24,
      "metadata": {
        "colab": {
          "base_uri": "https://localhost:8080/"
        },
        "collapsed": true,
        "id": "vN1B-qQWBdHY",
        "outputId": "25ccc938-1132-4e40-debe-0b98e318704f"
      },
      "outputs": [
        {
          "name": "stdout",
          "output_type": "stream",
          "text": [
            "157/157 [==============================] - 1s 4ms/step\n"
          ]
        }
      ],
      "source": [
        "pred = model.predict([x_test[:, 0], x_test[:, 1]])"
      ]
    },
    {
      "cell_type": "code",
      "execution_count": 25,
      "metadata": {
        "collapsed": true,
        "id": "fDkf6AP8BdHZ"
      },
      "outputs": [],
      "source": [
        "def compute_accuracy(predictions, labels):\n",
        "    return labels[predictions.ravel() < 0.5].mean()"
      ]
    },
    {
      "cell_type": "markdown",
      "metadata": {
        "id": "Ag7T81e9BdHZ"
      },
      "source": [
        "Finally, we check our model accuracy."
      ]
    },
    {
      "cell_type": "code",
      "execution_count": 26,
      "metadata": {
        "colab": {
          "base_uri": "https://localhost:8080/"
        },
        "id": "lDaFNBNpBdHl",
        "outputId": "15953d1b-5298-46f6-8b86-9147082d59d9",
        "scrolled": true
      },
      "outputs": [
        {
          "data": {
            "text/plain": [
              "0.9517477203647416"
            ]
          },
          "execution_count": 26,
          "metadata": {},
          "output_type": "execute_result"
        }
      ],
      "source": [
        "compute_accuracy(pred, y_test)"
      ]
    },
    {
      "cell_type": "code",
      "execution_count": null,
      "metadata": {
        "id": "RqrgWYqIBdHm"
      },
      "outputs": [],
      "source": []
    }
  ],
  "metadata": {
    "accelerator": "GPU",
    "colab": {
      "gpuType": "T4",
      "provenance": []
    },
    "kernelspec": {
      "display_name": "Python 3",
      "name": "python3"
    },
    "language_info": {
      "codemirror_mode": {
        "name": "ipython",
        "version": 3
      },
      "file_extension": ".py",
      "mimetype": "text/x-python",
      "name": "python",
      "nbconvert_exporter": "python",
      "pygments_lexer": "ipython3",
      "version": "3.12.1"
    }
  },
  "nbformat": 4,
  "nbformat_minor": 0
}
