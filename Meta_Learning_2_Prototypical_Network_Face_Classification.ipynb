{
  "cells": [
    {
      "cell_type": "markdown",
      "metadata": {
        "id": "GlyMLKngmf-t"
      },
      "source": [
        "# Prototypical Netwoks for Classification"
      ]
    },
    {
      "cell_type": "markdown",
      "metadata": {
        "id": "uh1W3Lszseoa"
      },
      "source": [
        "##Import libraries"
      ]
    },
    {
      "cell_type": "code",
      "execution_count": 1,
      "metadata": {
        "id": "F8XY5yCCZCYZ"
      },
      "outputs": [],
      "source": [
        "import numpy as np\n",
        "import matplotlib.pyplot as plt\n",
        "from scipy import ndimage\n",
        "import multiprocessing as mp\n",
        "import os\n",
        "import cv2\n",
        "\n",
        "import torch\n",
        "import torch.nn as nn\n",
        "import torchvision\n",
        "import torch.nn.functional as F\n",
        "import torch.optim as optim\n",
        "from torch.autograd import Variable\n",
        "from tqdm import trange\n"
      ]
    },
    {
      "cell_type": "code",
      "execution_count": 2,
      "metadata": {
        "colab": {
          "base_uri": "https://localhost:8080/"
        },
        "id": "X5zGtLpGIziY",
        "outputId": "34e5f56d-72ae-4e4e-c2d0-74e666ccfdaf"
      },
      "outputs": [
        {
          "name": "stdout",
          "output_type": "stream",
          "text": [
            "True\n"
          ]
        }
      ],
      "source": [
        "print(torch.cuda.is_available())"
      ]
    },
    {
      "cell_type": "markdown",
      "metadata": {
        "id": "Ebffp6XBskUN"
      },
      "source": [
        "##Import data"
      ]
    },
    {
      "cell_type": "markdown",
      "metadata": {
        "id": "5-R_Clr7tEQh"
      },
      "source": [
        "The Omniglot dataset is taken on [the official GitHub repository](https://github.com/brendenlake/omniglot)\n",
        "\n",
        "- Features 1623 handwritten characters from 50 ;anguages.\n",
        "- Each character was drawn by 20 individuals via Amazon's Mechanical Turk.\n",
        "- Includes stroke data ([x,y,t] coordinates) for each character, capturing the dynamics of handwriting."
      ]
    },
    {
      "cell_type": "code",
      "execution_count": 3,
      "metadata": {
        "colab": {
          "base_uri": "https://localhost:8080/"
        },
        "id": "7aV-Lqty3qTu",
        "outputId": "d2ad9b40-b7b7-473b-ece8-9363daec1fc9"
      },
      "outputs": [
        {
          "name": "stdout",
          "output_type": "stream",
          "text": [
            "--2024-04-08 20:34:48--  https://github.com/brendenlake/omniglot/raw/master/python/images_evaluation.zip\n",
            "Resolving github.com (github.com)... 140.82.113.4\n",
            "Connecting to github.com (github.com)|140.82.113.4|:443... connected.\n",
            "HTTP request sent, awaiting response... 302 Found\n",
            "Location: https://raw.githubusercontent.com/brendenlake/omniglot/master/python/images_evaluation.zip [following]\n",
            "--2024-04-08 20:34:48--  https://raw.githubusercontent.com/brendenlake/omniglot/master/python/images_evaluation.zip\n",
            "Resolving raw.githubusercontent.com (raw.githubusercontent.com)... 185.199.110.133, 185.199.108.133, 185.199.111.133, ...\n",
            "Connecting to raw.githubusercontent.com (raw.githubusercontent.com)|185.199.110.133|:443... connected.\n",
            "HTTP request sent, awaiting response... 200 OK\n",
            "Length: 6462886 (6.2M) [application/zip]\n",
            "Saving to: ‘images_evaluation.zip.1’\n",
            "\n",
            "images_evaluation.z 100%[===================>]   6.16M  --.-KB/s    in 0.09s   \n",
            "\n",
            "2024-04-08 20:34:49 (66.5 MB/s) - ‘images_evaluation.zip.1’ saved [6462886/6462886]\n",
            "\n",
            "--2024-04-08 20:34:49--  https://github.com/brendenlake/omniglot/raw/master/python/images_background.zip\n",
            "Resolving github.com (github.com)... 140.82.113.4\n",
            "Connecting to github.com (github.com)|140.82.113.4|:443... connected.\n",
            "HTTP request sent, awaiting response... 302 Found\n",
            "Location: https://raw.githubusercontent.com/brendenlake/omniglot/master/python/images_background.zip [following]\n",
            "--2024-04-08 20:34:49--  https://raw.githubusercontent.com/brendenlake/omniglot/master/python/images_background.zip\n",
            "Resolving raw.githubusercontent.com (raw.githubusercontent.com)... 185.199.108.133, 185.199.109.133, 185.199.110.133, ...\n",
            "Connecting to raw.githubusercontent.com (raw.githubusercontent.com)|185.199.108.133|:443... connected.\n",
            "HTTP request sent, awaiting response... 200 OK\n",
            "Length: 9464212 (9.0M) [application/zip]\n",
            "Saving to: ‘images_background.zip.1’\n",
            "\n",
            "images_background.z 100%[===================>]   9.03M  --.-KB/s    in 0.1s    \n",
            "\n",
            "2024-04-08 20:34:49 (85.1 MB/s) - ‘images_background.zip.1’ saved [9464212/9464212]\n",
            "\n"
          ]
        }
      ],
      "source": [
        "!wget https://github.com/brendenlake/omniglot/raw/master/python/images_evaluation.zip\n",
        "\n",
        "!wget https://github.com/brendenlake/omniglot/raw/master/python/images_background.zip"
      ]
    },
    {
      "cell_type": "code",
      "execution_count": 4,
      "metadata": {
        "colab": {
          "base_uri": "https://localhost:8080/"
        },
        "id": "GnYYF9wL6ZuA",
        "outputId": "6965c519-1558-4565-bf2e-03647ad140d9"
      },
      "outputs": [
        {
          "name": "stdout",
          "output_type": "stream",
          "text": [
            "replace images_background/Alphabet_of_the_Magi/character01/0709_01.png? [y]es, [n]o, [A]ll, [N]one, [r]ename: replace images_evaluation/Angelic/character01/0965_01.png? [y]es, [n]o, [A]ll, [N]one, [r]ename: "
          ]
        }
      ],
      "source": [
        "!unzip -qq images_evaluation.zip\n",
        "!unzip -qq images_background.zip"
      ]
    },
    {
      "cell_type": "markdown",
      "metadata": {
        "id": "l33V3V0asntp"
      },
      "source": [
        "##Read data"
      ]
    },
    {
      "cell_type": "code",
      "execution_count": 27,
      "metadata": {
        "id": "LaVRZ91We5p2"
      },
      "outputs": [],
      "source": [
        "def load_character_images(path_to_alphabet, alphabet_name):\n",
        "  images_list = []\n",
        "  labels_list = []\n",
        "  character_folders = os.listdir(path_to_alphabet)\n",
        "\n",
        "  for folder in character_folders:\n",
        "      full_path = os.path.join(path_to_alphabet, folder)\n",
        "      image_files = os.listdir(full_path)\n",
        "\n",
        "      for file in image_files:\n",
        "          img_path = os.path.join(full_path, file)\n",
        "          original_image = cv2.imread(img_path)\n",
        "          resized_image = cv2.resize(original_image, (28, 28))\n",
        "\n",
        "          # generating rotated versions of the image\n",
        "          rotations = [0, 90, 180, 270]\n",
        "          for angle in rotations:\n",
        "              if angle == 0:\n",
        "                  rotated_image = resized_image\n",
        "              else:\n",
        "                  rotated_image = ndimage.rotate(resized_image, angle)\n",
        "              images_list.append(rotated_image)\n",
        "              labels_list.append(f\"{alphabet_name}_{folder}_{angle}\")\n",
        "\n",
        "  return np.array(images_list), np.array(labels_list)\n"
      ]
    },
    {
      "cell_type": "code",
      "execution_count": 28,
      "metadata": {
        "id": "U1JXlgXT7aMG"
      },
      "outputs": [],
      "source": [
        "def fetch_images(root_dir):\n",
        "    images, labels = None, None\n",
        "    with mp.Pool(processes=mp.cpu_count()) as pool:\n",
        "        fetch_results = [pool.apply(load_character_images, args=(os.path.join(root_dir, dir_name) + '/', dir_name)) for dir_name in os.listdir(root_dir)]\n",
        "\n",
        "    for img_data, lbl_data in fetch_results:\n",
        "        images = np.vstack([images, img_data]) if images is not None else img_data\n",
        "        labels = np.concatenate([labels, lbl_data]) if labels is not None else lbl_data\n",
        "\n",
        "    return images, labels\n"
      ]
    },
    {
      "cell_type": "code",
      "execution_count": 29,
      "metadata": {
        "id": "P7UN-n0l7aT0"
      },
      "outputs": [],
      "source": [
        "trainx, trainy = fetch_images('images_background')\n",
        "testx, testy = fetch_images('images_evaluation')"
      ]
    },
    {
      "cell_type": "code",
      "execution_count": 31,
      "metadata": {
        "colab": {
          "base_uri": "https://localhost:8080/"
        },
        "id": "Li3bT2bPAdih",
        "outputId": "c91838e2-f293-4c17-a38b-5b9ebe0a3c88"
      },
      "outputs": [
        {
          "name": "stdout",
          "output_type": "stream",
          "text": [
            "Training Images Shape: (77120, 28, 28, 3)\n",
            "Training Labels Shape: (77120,)\n",
            "Testing Images Shape: (52720, 28, 28, 3)\n",
            "Testing Labels Shape: (52720,)\n"
          ]
        }
      ],
      "source": [
        "print(f\"Training Images Shape: {trainx.shape}\")\n",
        "print(f\"Training Labels Shape: {trainy.shape}\")\n",
        "print(f\"Testing Images Shape: {testx.shape}\")\n",
        "print(f\"Testing Labels Shape: {testy.shape}\")\n"
      ]
    },
    {
      "cell_type": "code",
      "execution_count": 32,
      "metadata": {
        "colab": {
          "base_uri": "https://localhost:8080/"
        },
        "id": "a7YClsBVYz28",
        "outputId": "4767451f-f2ae-4775-fc58-797908990999"
      },
      "outputs": [
        {
          "name": "stdout",
          "output_type": "stream",
          "text": [
            "cuda:0\n"
          ]
        }
      ],
      "source": [
        "device = torch.device(\"cuda:0\" if torch.cuda.is_available() else \"cpu\")\n",
        "print(device)"
      ]
    },
    {
      "cell_type": "markdown",
      "metadata": {
        "id": "aLWx2XCWwAxx"
      },
      "source": [
        "\n",
        "### Training Set:\n",
        "1. **Images**: 77,120, from 3,856 characters in the background set.\n",
        "2. **Shape**: Images - (77120, 28, 28, 3), Labels - (77120,).\n",
        "\n",
        "### Testing Set:\n",
        "1. **Images**: 52,720, from 2,636 characters in the evaluation set.\n",
        "2. **Shape**: Images - (52720, 28, 28, 3), Labels - (52720,).\n",
        "\n",
        "\n"
      ]
    },
    {
      "cell_type": "markdown",
      "metadata": {
        "id": "J2VcplJ3xA-z"
      },
      "source": [
        "##Create samples"
      ]
    },
    {
      "cell_type": "code",
      "execution_count": 33,
      "metadata": {
        "id": "oDOhxCjd24bw"
      },
      "outputs": [],
      "source": [
        "def gather_samples(num_classes, support_size, query_size, image_data, label_data):\n",
        "    selected_samples = []\n",
        "    chosen_labels = np.random.choice(np.unique(label_data), num_classes, replace=False)\n",
        "\n",
        "    for label in chosen_labels:\n",
        "        images_of_class = image_data[label_data == label]\n",
        "        shuffled_images = np.random.permutation(images_of_class)\n",
        "        selected_images = shuffled_images[:support_size + query_size]\n",
        "        selected_samples.append(selected_images)\n",
        "\n",
        "    selected_samples = np.stack(selected_samples)\n",
        "    tensor_samples = torch.tensor(selected_samples, dtype=torch.float).to(device)\n",
        "    reshaped_samples = tensor_samples.permute(0, 1, 4, 2, 3)\n",
        "\n",
        "    return {\n",
        "        'images': reshaped_samples,\n",
        "        'n_way': num_classes,\n",
        "        'n_support': support_size,\n",
        "        'n_query': query_size\n",
        "    }\n"
      ]
    },
    {
      "cell_type": "code",
      "execution_count": 34,
      "metadata": {
        "id": "ia3JLpQRu4fh"
      },
      "outputs": [],
      "source": [
        "def display_sample(sample):\n",
        "    sample_cpu = sample.cpu()\n",
        "    sample_4D = sample_cpu.view(sample_cpu.shape[0] * sample_cpu.shape[1], *sample_cpu.shape[2:])\n",
        "    out = torchvision.utils.make_grid(sample_4D, nrow=sample_cpu.shape[1])\n",
        "    plt.figure(figsize=(16, 7))\n",
        "    # Convert tensor to numpy array and display it\n",
        "    plt.imshow(out.permute(1, 2, 0).numpy())\n",
        "    plt.show()\n",
        "\n",
        "\n"
      ]
    },
    {
      "cell_type": "markdown",
      "metadata": {
        "id": "-uGq_ya4yG2K"
      },
      "source": [
        "As an example, let's pick a sample and display it\n",
        "\n",
        "*   n_way = 8\n",
        "*   n_support = 5\n",
        "*   n_query = 5\n",
        "\n",
        "\n"
      ]
    },
    {
      "cell_type": "code",
      "execution_count": 35,
      "metadata": {
        "colab": {
          "base_uri": "https://localhost:8080/",
          "height": 621
        },
        "id": "lxOHvWfO1ApZ",
        "outputId": "7a936d37-afeb-400d-e284-eeac2d8cbbbf"
      },
      "outputs": [
        {
          "name": "stderr",
          "output_type": "stream",
          "text": [
            "WARNING:matplotlib.image:Clipping input data to the valid range for imshow with RGB data ([0..1] for floats or [0..255] for integers).\n"
          ]
        },
        {
          "data": {
            "image/png": "[encoded data removed]",
            "text/plain": [
              "<Figure size 1600x700 with 1 Axes>"
            ]
          },
          "metadata": {},
          "output_type": "display_data"
        }
      ],
      "source": [
        "sample_example = gather_samples(8, 5, 5, trainx, trainy)\n",
        "display_sample(sample_example['images'])"
      ]
    },
    {
      "cell_type": "code",
      "execution_count": 36,
      "metadata": {
        "colab": {
          "base_uri": "https://localhost:8080/"
        },
        "id": "RhDNMyG8AjOB",
        "outputId": "cd5ed45b-f77c-40b2-800d-8fbc6c56773c"
      },
      "outputs": [
        {
          "data": {
            "text/plain": [
              "torch.Size([8, 10, 3, 28, 28])"
            ]
          },
          "execution_count": 36,
          "metadata": {},
          "output_type": "execute_result"
        }
      ],
      "source": [
        "sample_example['images'].shape"
      ]
    },
    {
      "cell_type": "markdown",
      "metadata": {
        "id": "HbakTT_nFubI"
      },
      "source": [
        "##Build model"
      ]
    },
    {
      "cell_type": "markdown",
      "metadata": {
        "id": "_-E6-_vvzXZw"
      },
      "source": [
        "Paper: [Prototypical Networks for Few-shot Learning](https://arxiv.org/pdf/1703.05175v2.pdf)"
      ]
    },
    {
      "cell_type": "markdown",
      "metadata": {
        "id": "VuvH9joezgja"
      },
      "source": [
        "The component responsible for embedding transforms an image of dimensions 28x28x3 into a vector with 64 elements. This transformation is achieved through a sequence of four stages, each featuring a convolutional layer with 64 filters of size 3x3, followed by batch normalization, a ReLU activation function, and a 2x2 max-pooling layer.\n",
        "\n",
        "Utilizing this framework on the Omniglot dataset's 28x28 images, the model produces an output space with 64 dimensions."
      ]
    },
    {
      "cell_type": "code",
      "execution_count": 38,
      "metadata": {
        "id": "DBzAfRyJB-3X"
      },
      "outputs": [],
      "source": [
        "class Simplify(nn.Module):\n",
        "    def __init__(self):\n",
        "        super().__init__()\n",
        "\n",
        "    def forward(self, input_tensor):\n",
        "        return input_tensor.reshape(input_tensor.shape[0], -1)\n",
        "\n",
        "def initialize_protonet(**params):\n",
        "    input_dim = params['x_dim']\n",
        "    hidden_dim = params['hid_dim']\n",
        "    output_dim = params['z_dim']\n",
        "\n",
        "    def build_block(input_channels, output_channels):\n",
        "        return nn.Sequential(\n",
        "            nn.Conv2d(input_channels, output_channels, kernel_size=3, padding=1),\n",
        "            nn.BatchNorm2d(output_channels),\n",
        "            nn.ReLU(),\n",
        "            nn.MaxPool2d(kernel_size=2)\n",
        "        )\n",
        "\n",
        "    model_encoder = nn.Sequential(\n",
        "        build_block(input_dim[0], hidden_dim),\n",
        "        build_block(hidden_dim, hidden_dim),\n",
        "        build_block(hidden_dim, hidden_dim),\n",
        "        build_block(hidden_dim, output_dim),\n",
        "        Simplify()\n",
        "    )\n",
        "\n",
        "    return PrototypeNetwork(model_encoder)\n"
      ]
    },
    {
      "cell_type": "code",
      "execution_count": 44,
      "metadata": {
        "id": "FTjSYAz1WY5e"
      },
      "outputs": [],
      "source": [
        "# Corrected and optimized `calculate_loss` method in `PrototypeNetwork` class\n",
        "class PrototypeNetwork(nn.Module):\n",
        "    def __init__(self, model_encoder):\n",
        "        super().__init__()\n",
        "        self.encoder = model_encoder.to(device)\n",
        "\n",
        "    def calculate_loss(self, batch):\n",
        "        images = batch['images'].to(device)\n",
        "        class_count = batch['n_way']\n",
        "        support_size = batch['n_support']\n",
        "        query_size = batch['n_query']\n",
        "\n",
        "        support_images = images[:, :support_size].contiguous().view(class_count * support_size, *images.size()[2:])\n",
        "        query_images = images[:, support_size:].contiguous().view(class_count * query_size, *images.size()[2:])\n",
        "\n",
        "        target_indices = torch.arange(0, class_count).view(class_count, 1, 1).expand(class_count, query_size, 1).long().to(device)\n",
        "\n",
        "        encoded_images = torch.cat([support_images, query_images], 0)\n",
        "        encoded_vectors = self.encoder(encoded_images)\n",
        "        prototype_vectors = encoded_vectors[:class_count*support_size].view(class_count, support_size, -1).mean(1)\n",
        "        query_vectors = encoded_vectors[class_count*support_size:]\n",
        "\n",
        "        distance = euclidean_dist(query_vectors, prototype_vectors)\n",
        "        probability_log = F.log_softmax(-distance, dim=1).view(class_count, query_size, -1)\n",
        "        loss = -probability_log.gather(2, target_indices).squeeze().view(-1).mean()\n",
        "        prediction = probability_log.max(2)[1]\n",
        "        accuracy = torch.eq(prediction, target_indices.squeeze()).float().mean()\n",
        "\n",
        "        return loss, {'loss': loss.item(), 'accuracy': accuracy.item(), 'prediction': prediction}\n"
      ]
    },
    {
      "cell_type": "code",
      "execution_count": 45,
      "metadata": {
        "id": "Tjf4lqBFB_Ei"
      },
      "outputs": [],
      "source": [
        "def euclidean_dist(x, y):\n",
        "\n",
        "  n = x.size(0)\n",
        "  m = y.size(0)\n",
        "  d = x.size(1)\n",
        "  assert d == y.size(1)\n",
        "\n",
        "  x = x.unsqueeze(1).expand(n, m, d)\n",
        "  y = y.unsqueeze(0).expand(n, m, d)\n",
        "\n",
        "  return torch.pow(x - y, 2).sum(2)"
      ]
    },
    {
      "cell_type": "markdown",
      "metadata": {
        "id": "0Fke38yY6pI9"
      },
      "source": [
        "##Train"
      ]
    },
    {
      "cell_type": "code",
      "execution_count": 46,
      "metadata": {
        "id": "BnLOgECOKG_y"
      },
      "outputs": [],
      "source": [
        "def train(proto_net, optimizer, images_train, labels_train, class_num, support_num, query_num, total_epochs, batch_count):\n",
        "    lr_adjuster = optim.lr_scheduler.StepLR(optimizer, step_size=1, gamma=0.5)\n",
        "\n",
        "    for current_epoch in range(total_epochs):\n",
        "        cumulative_loss = 0.0\n",
        "        cumulative_accuracy = 0.0\n",
        "\n",
        "        for batch in trange(batch_count, desc=f\"Training Epoch {current_epoch+1}\"):\n",
        "            batch_data = gather_samples(class_num, support_num, query_num, images_train, labels_train)\n",
        "            optimizer.zero_grad()\n",
        "            loss_value, metrics = proto_net.calculate_loss(batch_data)\n",
        "            cumulative_loss += metrics['loss']\n",
        "            cumulative_accuracy += metrics['accuracy']\n",
        "            loss_value.backward()\n",
        "            optimizer.step()\n",
        "\n",
        "        average_loss = cumulative_loss / batch_count\n",
        "        average_accuracy = cumulative_accuracy / batch_count\n",
        "        print(f\"Epoch {current_epoch+1} - Avg Loss: {average_loss:.4f}, Avg Accuracy: {average_accuracy:.4f}\")\n",
        "\n",
        "        lr_adjuster.step()\n"
      ]
    },
    {
      "cell_type": "code",
      "execution_count": 47,
      "metadata": {
        "colab": {
          "base_uri": "https://localhost:8080/"
        },
        "id": "8M7T5QrCawRQ",
        "outputId": "6d86f22d-75a9-476f-8300-b15bd3aa5ea4"
      },
      "outputs": [
        {
          "data": {
            "text/plain": [
              "True"
            ]
          },
          "execution_count": 47,
          "metadata": {},
          "output_type": "execute_result"
        }
      ],
      "source": [
        "torch.cuda.is_available()"
      ]
    },
    {
      "cell_type": "code",
      "execution_count": 48,
      "metadata": {
        "colab": {
          "base_uri": "https://localhost:8080/"
        },
        "id": "7uMy99qE-Ed6",
        "outputId": "ac493e2f-2601-4173-ec1a-6b3291e7c0f3"
      },
      "outputs": [
        {
          "name": "stderr",
          "output_type": "stream",
          "text": [
            "Training Epoch 1: 100%|██████████| 2000/2000 [03:01<00:00, 11.03it/s]\n"
          ]
        },
        {
          "name": "stdout",
          "output_type": "stream",
          "text": [
            "Epoch 1 - Avg Loss: 0.1141, Avg Accuracy: 0.9646\n"
          ]
        },
        {
          "name": "stderr",
          "output_type": "stream",
          "text": [
            "Training Epoch 2: 100%|██████████| 2000/2000 [03:00<00:00, 11.11it/s]\n"
          ]
        },
        {
          "name": "stdout",
          "output_type": "stream",
          "text": [
            "Epoch 2 - Avg Loss: 0.0457, Avg Accuracy: 0.9838\n"
          ]
        },
        {
          "name": "stderr",
          "output_type": "stream",
          "text": [
            "Training Epoch 3: 100%|██████████| 2000/2000 [03:07<00:00, 10.65it/s]\n"
          ]
        },
        {
          "name": "stdout",
          "output_type": "stream",
          "text": [
            "Epoch 3 - Avg Loss: 0.0337, Avg Accuracy: 0.9874\n"
          ]
        },
        {
          "name": "stderr",
          "output_type": "stream",
          "text": [
            "Training Epoch 4: 100%|██████████| 2000/2000 [03:01<00:00, 11.05it/s]\n"
          ]
        },
        {
          "name": "stdout",
          "output_type": "stream",
          "text": [
            "Epoch 4 - Avg Loss: 0.0293, Avg Accuracy: 0.9888\n"
          ]
        },
        {
          "name": "stderr",
          "output_type": "stream",
          "text": [
            "Training Epoch 5: 100%|██████████| 2000/2000 [03:02<00:00, 10.95it/s]"
          ]
        },
        {
          "name": "stdout",
          "output_type": "stream",
          "text": [
            "Epoch 5 - Avg Loss: 0.0263, Avg Accuracy: 0.9898\n",
            "CPU times: user 15min 5s, sys: 3.98 s, total: 15min 9s\n",
            "Wall time: 15min 12s\n"
          ]
        },
        {
          "name": "stderr",
          "output_type": "stream",
          "text": [
            "\n"
          ]
        }
      ],
      "source": [
        "%%time\n",
        "\n",
        "model = initialize_protonet(\n",
        "    x_dim=(3,28,28),\n",
        "    hid_dim=64,\n",
        "    z_dim=64,\n",
        "    )\n",
        "\n",
        "optimizer = optim.Adam(model.parameters(), lr = 0.001)\n",
        "\n",
        "n_way = 60\n",
        "n_support = 5\n",
        "n_query = 5\n",
        "\n",
        "train_x = trainx\n",
        "train_y = trainy\n",
        "\n",
        "max_epoch = 5\n",
        "epoch_size = 2000\n",
        "\n",
        "train(model, optimizer, train_x, train_y, n_way, n_support, n_query, max_epoch, epoch_size)"
      ]
    },
    {
      "cell_type": "markdown",
      "metadata": {
        "id": "pJu50gOb8WxU"
      },
      "source": [
        "##Test"
      ]
    },
    {
      "cell_type": "code",
      "execution_count": 51,
      "metadata": {
        "id": "qCgoOcCaERHH"
      },
      "outputs": [],
      "source": [
        "def test(model, test_x, test_y, n_way, n_support, n_query, test_episode):\n",
        "    running_loss = 0.0\n",
        "    running_accuracy = 0.0  # Updated variable name for clarity\n",
        "    for episode in trange(test_episode):\n",
        "        sample = gather_samples(n_way, n_support, n_query, test_x, test_y)\n",
        "        loss, output = model.calculate_loss(sample)\n",
        "        running_loss += output['loss']\n",
        "        running_accuracy += output['accuracy']  # Updated key to match 'calculate_loss' output\n",
        "    avg_loss = running_loss / test_episode\n",
        "    avg_accuracy = running_accuracy / test_episode  # Use the updated variable name\n",
        "    print(f'Test results -- Loss: {avg_loss:.4f} Acc: {avg_accuracy:.4f}')\n"
      ]
    },
    {
      "cell_type": "code",
      "execution_count": 52,
      "metadata": {
        "colab": {
          "base_uri": "https://localhost:8080/"
        },
        "id": "yvyja6x3I6JB",
        "outputId": "2feb595e-b0c9-4caa-bc6e-3b431a30a655"
      },
      "outputs": [
        {
          "name": "stderr",
          "output_type": "stream",
          "text": [
            "100%|██████████| 1000/1000 [00:29<00:00, 34.07it/s]"
          ]
        },
        {
          "name": "stdout",
          "output_type": "stream",
          "text": [
            "Test results -- Loss: 0.0192 Acc: 0.9962\n"
          ]
        },
        {
          "name": "stderr",
          "output_type": "stream",
          "text": [
            "\n"
          ]
        }
      ],
      "source": [
        "n_way = 5\n",
        "n_support = 5\n",
        "n_query = 5\n",
        "\n",
        "test_x = testx\n",
        "test_y = testy\n",
        "\n",
        "test_episode = 1000\n",
        "\n",
        "test(model, test_x, test_y, n_way, n_support, n_query, test_episode)"
      ]
    },
    {
      "cell_type": "code",
      "execution_count": null,
      "metadata": {
        "id": "VpSvZyeVhWtq"
      },
      "outputs": [],
      "source": []
    }
  ],
  "metadata": {
    "accelerator": "GPU",
    "colab": {
      "gpuType": "T4",
      "provenance": []
    },
    "kernelspec": {
      "display_name": "Python 3",
      "name": "python3"
    }
  },
  "nbformat": 4,
  "nbformat_minor": 0
}
